{
  "nbformat": 4,
  "nbformat_minor": 0,
  "metadata": {
    "colab": {
      "name": "Credit_card_fraud_Detection",
      "provenance": [],
      "collapsed_sections": []
    },
    "kernelspec": {
      "name": "python3",
      "display_name": "Python 3"
    }
  },
  "cells": [
    {
      "cell_type": "code",
      "metadata": {
        "id": "t22iCF0f0ZR8"
      },
      "source": [
        "# Import libraries\n",
        "import pandas as pd\n",
        "import numpy as np\n",
        "import keras\n",
        "np.random.seed(2)"
      ],
      "execution_count": 1,
      "outputs": []
    },
    {
      "cell_type": "code",
      "metadata": {
        "id": "I8u7XoEr6M20"
      },
      "source": [
        "#np.random.seed(2)\n",
        "#What if every time you start training from scratch the model is initialised to the same set of random initialise weights? In this case your model could become reproducible.\n",
        "# This is achieved by numpy.random.seed(0).\n",
        " #By mentioning seed() to a particular number, you are hanging on to same set of random numbers alway"
      ],
      "execution_count": 2,
      "outputs": []
    },
    {
      "cell_type": "code",
      "metadata": {
        "id": "QIcrkiac7aBU"
      },
      "source": [
        "# import data"
      ],
      "execution_count": 3,
      "outputs": []
    },
    {
      "cell_type": "code",
      "metadata": {
        "id": "ppLYvNwj7ea6",
        "outputId": "adc38532-211c-4529-a870-da7b976f686d",
        "colab": {
          "base_uri": "https://localhost:8080/",
          "height": 34
        }
      },
      "source": [
        "from google.colab import drive\n",
        "drive.mount('/content/drive')"
      ],
      "execution_count": 5,
      "outputs": [
        {
          "output_type": "stream",
          "text": [
            "Mounted at /content/drive\n"
          ],
          "name": "stdout"
        }
      ]
    },
    {
      "cell_type": "code",
      "metadata": {
        "id": "AkuTodBH-9PE",
        "outputId": "5f00203a-828e-4498-c5c7-d484c7a93fc5",
        "colab": {
          "base_uri": "https://localhost:8080/",
          "height": 34
        }
      },
      "source": [
        "from zipfile import ZipFile\n",
        "file_name=\"/content/drive/My Drive/creditcard.csv.zip\"\n",
        "\n",
        "with ZipFile(file_name,'r') as zip:\n",
        "  zip.extractall()\n",
        "  print('done')"
      ],
      "execution_count": 6,
      "outputs": [
        {
          "output_type": "stream",
          "text": [
            "done\n"
          ],
          "name": "stdout"
        }
      ]
    },
    {
      "cell_type": "code",
      "metadata": {
        "id": "cBM7pbAr_QNT",
        "outputId": "81901a10-da94-4f17-a3cc-cc867f74388b",
        "colab": {
          "base_uri": "https://localhost:8080/",
          "height": 217
        }
      },
      "source": [
        "df=pd.read_csv('/content/creditcard.csv')\n",
        "df.head()"
      ],
      "execution_count": 7,
      "outputs": [
        {
          "output_type": "execute_result",
          "data": {
            "text/html": [
              "<div>\n",
              "<style scoped>\n",
              "    .dataframe tbody tr th:only-of-type {\n",
              "        vertical-align: middle;\n",
              "    }\n",
              "\n",
              "    .dataframe tbody tr th {\n",
              "        vertical-align: top;\n",
              "    }\n",
              "\n",
              "    .dataframe thead th {\n",
              "        text-align: right;\n",
              "    }\n",
              "</style>\n",
              "<table border=\"1\" class=\"dataframe\">\n",
              "  <thead>\n",
              "    <tr style=\"text-align: right;\">\n",
              "      <th></th>\n",
              "      <th>Time</th>\n",
              "      <th>V1</th>\n",
              "      <th>V2</th>\n",
              "      <th>V3</th>\n",
              "      <th>V4</th>\n",
              "      <th>V5</th>\n",
              "      <th>V6</th>\n",
              "      <th>V7</th>\n",
              "      <th>V8</th>\n",
              "      <th>V9</th>\n",
              "      <th>V10</th>\n",
              "      <th>V11</th>\n",
              "      <th>V12</th>\n",
              "      <th>V13</th>\n",
              "      <th>V14</th>\n",
              "      <th>V15</th>\n",
              "      <th>V16</th>\n",
              "      <th>V17</th>\n",
              "      <th>V18</th>\n",
              "      <th>V19</th>\n",
              "      <th>V20</th>\n",
              "      <th>V21</th>\n",
              "      <th>V22</th>\n",
              "      <th>V23</th>\n",
              "      <th>V24</th>\n",
              "      <th>V25</th>\n",
              "      <th>V26</th>\n",
              "      <th>V27</th>\n",
              "      <th>V28</th>\n",
              "      <th>Amount</th>\n",
              "      <th>Class</th>\n",
              "    </tr>\n",
              "  </thead>\n",
              "  <tbody>\n",
              "    <tr>\n",
              "      <th>0</th>\n",
              "      <td>0.0</td>\n",
              "      <td>-1.359807</td>\n",
              "      <td>-0.072781</td>\n",
              "      <td>2.536347</td>\n",
              "      <td>1.378155</td>\n",
              "      <td>-0.338321</td>\n",
              "      <td>0.462388</td>\n",
              "      <td>0.239599</td>\n",
              "      <td>0.098698</td>\n",
              "      <td>0.363787</td>\n",
              "      <td>0.090794</td>\n",
              "      <td>-0.551600</td>\n",
              "      <td>-0.617801</td>\n",
              "      <td>-0.991390</td>\n",
              "      <td>-0.311169</td>\n",
              "      <td>1.468177</td>\n",
              "      <td>-0.470401</td>\n",
              "      <td>0.207971</td>\n",
              "      <td>0.025791</td>\n",
              "      <td>0.403993</td>\n",
              "      <td>0.251412</td>\n",
              "      <td>-0.018307</td>\n",
              "      <td>0.277838</td>\n",
              "      <td>-0.110474</td>\n",
              "      <td>0.066928</td>\n",
              "      <td>0.128539</td>\n",
              "      <td>-0.189115</td>\n",
              "      <td>0.133558</td>\n",
              "      <td>-0.021053</td>\n",
              "      <td>149.62</td>\n",
              "      <td>0</td>\n",
              "    </tr>\n",
              "    <tr>\n",
              "      <th>1</th>\n",
              "      <td>0.0</td>\n",
              "      <td>1.191857</td>\n",
              "      <td>0.266151</td>\n",
              "      <td>0.166480</td>\n",
              "      <td>0.448154</td>\n",
              "      <td>0.060018</td>\n",
              "      <td>-0.082361</td>\n",
              "      <td>-0.078803</td>\n",
              "      <td>0.085102</td>\n",
              "      <td>-0.255425</td>\n",
              "      <td>-0.166974</td>\n",
              "      <td>1.612727</td>\n",
              "      <td>1.065235</td>\n",
              "      <td>0.489095</td>\n",
              "      <td>-0.143772</td>\n",
              "      <td>0.635558</td>\n",
              "      <td>0.463917</td>\n",
              "      <td>-0.114805</td>\n",
              "      <td>-0.183361</td>\n",
              "      <td>-0.145783</td>\n",
              "      <td>-0.069083</td>\n",
              "      <td>-0.225775</td>\n",
              "      <td>-0.638672</td>\n",
              "      <td>0.101288</td>\n",
              "      <td>-0.339846</td>\n",
              "      <td>0.167170</td>\n",
              "      <td>0.125895</td>\n",
              "      <td>-0.008983</td>\n",
              "      <td>0.014724</td>\n",
              "      <td>2.69</td>\n",
              "      <td>0</td>\n",
              "    </tr>\n",
              "    <tr>\n",
              "      <th>2</th>\n",
              "      <td>1.0</td>\n",
              "      <td>-1.358354</td>\n",
              "      <td>-1.340163</td>\n",
              "      <td>1.773209</td>\n",
              "      <td>0.379780</td>\n",
              "      <td>-0.503198</td>\n",
              "      <td>1.800499</td>\n",
              "      <td>0.791461</td>\n",
              "      <td>0.247676</td>\n",
              "      <td>-1.514654</td>\n",
              "      <td>0.207643</td>\n",
              "      <td>0.624501</td>\n",
              "      <td>0.066084</td>\n",
              "      <td>0.717293</td>\n",
              "      <td>-0.165946</td>\n",
              "      <td>2.345865</td>\n",
              "      <td>-2.890083</td>\n",
              "      <td>1.109969</td>\n",
              "      <td>-0.121359</td>\n",
              "      <td>-2.261857</td>\n",
              "      <td>0.524980</td>\n",
              "      <td>0.247998</td>\n",
              "      <td>0.771679</td>\n",
              "      <td>0.909412</td>\n",
              "      <td>-0.689281</td>\n",
              "      <td>-0.327642</td>\n",
              "      <td>-0.139097</td>\n",
              "      <td>-0.055353</td>\n",
              "      <td>-0.059752</td>\n",
              "      <td>378.66</td>\n",
              "      <td>0</td>\n",
              "    </tr>\n",
              "    <tr>\n",
              "      <th>3</th>\n",
              "      <td>1.0</td>\n",
              "      <td>-0.966272</td>\n",
              "      <td>-0.185226</td>\n",
              "      <td>1.792993</td>\n",
              "      <td>-0.863291</td>\n",
              "      <td>-0.010309</td>\n",
              "      <td>1.247203</td>\n",
              "      <td>0.237609</td>\n",
              "      <td>0.377436</td>\n",
              "      <td>-1.387024</td>\n",
              "      <td>-0.054952</td>\n",
              "      <td>-0.226487</td>\n",
              "      <td>0.178228</td>\n",
              "      <td>0.507757</td>\n",
              "      <td>-0.287924</td>\n",
              "      <td>-0.631418</td>\n",
              "      <td>-1.059647</td>\n",
              "      <td>-0.684093</td>\n",
              "      <td>1.965775</td>\n",
              "      <td>-1.232622</td>\n",
              "      <td>-0.208038</td>\n",
              "      <td>-0.108300</td>\n",
              "      <td>0.005274</td>\n",
              "      <td>-0.190321</td>\n",
              "      <td>-1.175575</td>\n",
              "      <td>0.647376</td>\n",
              "      <td>-0.221929</td>\n",
              "      <td>0.062723</td>\n",
              "      <td>0.061458</td>\n",
              "      <td>123.50</td>\n",
              "      <td>0</td>\n",
              "    </tr>\n",
              "    <tr>\n",
              "      <th>4</th>\n",
              "      <td>2.0</td>\n",
              "      <td>-1.158233</td>\n",
              "      <td>0.877737</td>\n",
              "      <td>1.548718</td>\n",
              "      <td>0.403034</td>\n",
              "      <td>-0.407193</td>\n",
              "      <td>0.095921</td>\n",
              "      <td>0.592941</td>\n",
              "      <td>-0.270533</td>\n",
              "      <td>0.817739</td>\n",
              "      <td>0.753074</td>\n",
              "      <td>-0.822843</td>\n",
              "      <td>0.538196</td>\n",
              "      <td>1.345852</td>\n",
              "      <td>-1.119670</td>\n",
              "      <td>0.175121</td>\n",
              "      <td>-0.451449</td>\n",
              "      <td>-0.237033</td>\n",
              "      <td>-0.038195</td>\n",
              "      <td>0.803487</td>\n",
              "      <td>0.408542</td>\n",
              "      <td>-0.009431</td>\n",
              "      <td>0.798278</td>\n",
              "      <td>-0.137458</td>\n",
              "      <td>0.141267</td>\n",
              "      <td>-0.206010</td>\n",
              "      <td>0.502292</td>\n",
              "      <td>0.219422</td>\n",
              "      <td>0.215153</td>\n",
              "      <td>69.99</td>\n",
              "      <td>0</td>\n",
              "    </tr>\n",
              "  </tbody>\n",
              "</table>\n",
              "</div>"
            ],
            "text/plain": [
              "   Time        V1        V2        V3  ...       V27       V28  Amount  Class\n",
              "0   0.0 -1.359807 -0.072781  2.536347  ...  0.133558 -0.021053  149.62      0\n",
              "1   0.0  1.191857  0.266151  0.166480  ... -0.008983  0.014724    2.69      0\n",
              "2   1.0 -1.358354 -1.340163  1.773209  ... -0.055353 -0.059752  378.66      0\n",
              "3   1.0 -0.966272 -0.185226  1.792993  ...  0.062723  0.061458  123.50      0\n",
              "4   2.0 -1.158233  0.877737  1.548718  ...  0.219422  0.215153   69.99      0\n",
              "\n",
              "[5 rows x 31 columns]"
            ]
          },
          "metadata": {
            "tags": []
          },
          "execution_count": 7
        }
      ]
    },
    {
      "cell_type": "code",
      "metadata": {
        "id": "pHBzZRjX_3Zo"
      },
      "source": [
        "#### Pre-Processing the data"
      ],
      "execution_count": 8,
      "outputs": []
    },
    {
      "cell_type": "code",
      "metadata": {
        "id": "4OR0kAtADDFC"
      },
      "source": [
        "from sklearn.preprocessing import StandardScaler\n",
        "df['normalizeAmount']=StandardScaler().fit_transform(df['Amount'].values.reshape(-1,1))\n",
        "df=df.drop(['Amount'],axis=1)"
      ],
      "execution_count": 9,
      "outputs": []
    },
    {
      "cell_type": "code",
      "metadata": {
        "id": "jjGqZqFVEQ7H",
        "outputId": "e4c93cb1-8a74-4677-afaa-e6d716d827f9",
        "colab": {
          "base_uri": "https://localhost:8080/",
          "height": 692
        }
      },
      "source": [
        "df.info()"
      ],
      "execution_count": 10,
      "outputs": [
        {
          "output_type": "stream",
          "text": [
            "<class 'pandas.core.frame.DataFrame'>\n",
            "RangeIndex: 284807 entries, 0 to 284806\n",
            "Data columns (total 31 columns):\n",
            " #   Column           Non-Null Count   Dtype  \n",
            "---  ------           --------------   -----  \n",
            " 0   Time             284807 non-null  float64\n",
            " 1   V1               284807 non-null  float64\n",
            " 2   V2               284807 non-null  float64\n",
            " 3   V3               284807 non-null  float64\n",
            " 4   V4               284807 non-null  float64\n",
            " 5   V5               284807 non-null  float64\n",
            " 6   V6               284807 non-null  float64\n",
            " 7   V7               284807 non-null  float64\n",
            " 8   V8               284807 non-null  float64\n",
            " 9   V9               284807 non-null  float64\n",
            " 10  V10              284807 non-null  float64\n",
            " 11  V11              284807 non-null  float64\n",
            " 12  V12              284807 non-null  float64\n",
            " 13  V13              284807 non-null  float64\n",
            " 14  V14              284807 non-null  float64\n",
            " 15  V15              284807 non-null  float64\n",
            " 16  V16              284807 non-null  float64\n",
            " 17  V17              284807 non-null  float64\n",
            " 18  V18              284807 non-null  float64\n",
            " 19  V19              284807 non-null  float64\n",
            " 20  V20              284807 non-null  float64\n",
            " 21  V21              284807 non-null  float64\n",
            " 22  V22              284807 non-null  float64\n",
            " 23  V23              284807 non-null  float64\n",
            " 24  V24              284807 non-null  float64\n",
            " 25  V25              284807 non-null  float64\n",
            " 26  V26              284807 non-null  float64\n",
            " 27  V27              284807 non-null  float64\n",
            " 28  V28              284807 non-null  float64\n",
            " 29  Class            284807 non-null  int64  \n",
            " 30  normalizeAmount  284807 non-null  float64\n",
            "dtypes: float64(30), int64(1)\n",
            "memory usage: 67.4 MB\n"
          ],
          "name": "stdout"
        }
      ]
    },
    {
      "cell_type": "code",
      "metadata": {
        "id": "PohhZM1sEv2Z"
      },
      "source": [
        "# drop time\n",
        "df=df.drop(['Time'],axis=1)"
      ],
      "execution_count": 11,
      "outputs": []
    },
    {
      "cell_type": "code",
      "metadata": {
        "id": "dRmsiF_6MYkF",
        "outputId": "9e98d29b-c440-4ea7-f16c-e597bbb07f5e",
        "colab": {
          "base_uri": "https://localhost:8080/",
          "height": 567
        }
      },
      "source": [
        "# is null value present\n",
        "df.isna().sum()"
      ],
      "execution_count": 12,
      "outputs": [
        {
          "output_type": "execute_result",
          "data": {
            "text/plain": [
              "V1                 0\n",
              "V2                 0\n",
              "V3                 0\n",
              "V4                 0\n",
              "V5                 0\n",
              "V6                 0\n",
              "V7                 0\n",
              "V8                 0\n",
              "V9                 0\n",
              "V10                0\n",
              "V11                0\n",
              "V12                0\n",
              "V13                0\n",
              "V14                0\n",
              "V15                0\n",
              "V16                0\n",
              "V17                0\n",
              "V18                0\n",
              "V19                0\n",
              "V20                0\n",
              "V21                0\n",
              "V22                0\n",
              "V23                0\n",
              "V24                0\n",
              "V25                0\n",
              "V26                0\n",
              "V27                0\n",
              "V28                0\n",
              "Class              0\n",
              "normalizeAmount    0\n",
              "dtype: int64"
            ]
          },
          "metadata": {
            "tags": []
          },
          "execution_count": 12
        }
      ]
    },
    {
      "cell_type": "code",
      "metadata": {
        "id": "BBy-I7zzFFII",
        "outputId": "5484f25a-7d2a-4718-d3f1-6e35838de6d3",
        "colab": {
          "base_uri": "https://localhost:8080/",
          "height": 658
        }
      },
      "source": [
        "#Descriptive Statistics\n",
        "#The table below shows the descriptive statistics of the variables of this dataset.\n",
        "import matplotlib.pyplot as plt # this is used for the plot the graph \n",
        "import seaborn as sns # used for plot interactive graph. \n",
        "from pandas import set_option\n",
        "plt.style.use('ggplot') \n",
        "\n",
        "\n",
        "set_option('display.width', 100)\n",
        "set_option('precision', 2)\n",
        "\n",
        "print(\"SUMMARY STATISTICS OF NUMERIC COLUMNS\")\n",
        "print()\n",
        "print(df.describe().T)"
      ],
      "execution_count": 13,
      "outputs": [
        {
          "output_type": "stream",
          "text": [
            "/usr/local/lib/python3.6/dist-packages/statsmodels/tools/_testing.py:19: FutureWarning: pandas.util.testing is deprecated. Use the functions in the public API at pandas.testing instead.\n",
            "  import pandas.util.testing as tm\n"
          ],
          "name": "stderr"
        },
        {
          "output_type": "stream",
          "text": [
            "SUMMARY STATISTICS OF NUMERIC COLUMNS\n",
            "\n",
            "                    count      mean   std     min   25%       50%   75%     max\n",
            "V1               284807.0  3.92e-15  1.96  -56.41 -0.92  1.81e-02  1.32    2.45\n",
            "V2               284807.0  5.69e-16  1.65  -72.72 -0.60  6.55e-02  0.80   22.06\n",
            "V3               284807.0 -8.77e-15  1.52  -48.33 -0.89  1.80e-01  1.03    9.38\n",
            "V4               284807.0  2.78e-15  1.42   -5.68 -0.85 -1.98e-02  0.74   16.88\n",
            "V5               284807.0 -1.55e-15  1.38 -113.74 -0.69 -5.43e-02  0.61   34.80\n",
            "V6               284807.0  2.01e-15  1.33  -26.16 -0.77 -2.74e-01  0.40   73.30\n",
            "V7               284807.0 -1.69e-15  1.24  -43.56 -0.55  4.01e-02  0.57  120.59\n",
            "V8               284807.0 -1.93e-16  1.19  -73.22 -0.21  2.24e-02  0.33   20.01\n",
            "V9               284807.0 -3.14e-15  1.10  -13.43 -0.64 -5.14e-02  0.60   15.59\n",
            "V10              284807.0  1.77e-15  1.09  -24.59 -0.54 -9.29e-02  0.45   23.75\n",
            "V11              284807.0  9.17e-16  1.02   -4.80 -0.76 -3.28e-02  0.74   12.02\n",
            "V12              284807.0 -1.81e-15  1.00  -18.68 -0.41  1.40e-01  0.62    7.85\n",
            "V13              284807.0  1.69e-15  1.00   -5.79 -0.65 -1.36e-02  0.66    7.13\n",
            "V14              284807.0  1.48e-15  0.96  -19.21 -0.43  5.06e-02  0.49   10.53\n",
            "V15              284807.0  3.48e-15  0.92   -4.50 -0.58  4.81e-02  0.65    8.88\n",
            "V16              284807.0  1.39e-15  0.88  -14.13 -0.47  6.64e-02  0.52   17.32\n",
            "V17              284807.0 -7.53e-16  0.85  -25.16 -0.48 -6.57e-02  0.40    9.25\n",
            "V18              284807.0  4.33e-16  0.84   -9.50 -0.50 -3.64e-03  0.50    5.04\n",
            "V19              284807.0  9.05e-16  0.81   -7.21 -0.46  3.73e-03  0.46    5.59\n",
            "V20              284807.0  5.09e-16  0.77  -54.50 -0.21 -6.25e-02  0.13   39.42\n",
            "V21              284807.0  1.54e-16  0.73  -34.83 -0.23 -2.95e-02  0.19   27.20\n",
            "V22              284807.0  7.96e-16  0.73  -10.93 -0.54  6.78e-03  0.53   10.50\n",
            "V23              284807.0  5.37e-16  0.62  -44.81 -0.16 -1.12e-02  0.15   22.53\n",
            "V24              284807.0  4.46e-15  0.61   -2.84 -0.35  4.10e-02  0.44    4.58\n",
            "V25              284807.0  1.45e-15  0.52  -10.30 -0.32  1.66e-02  0.35    7.52\n",
            "V26              284807.0  1.70e-15  0.48   -2.60 -0.33 -5.21e-02  0.24    3.52\n",
            "V27              284807.0 -3.66e-16  0.40  -22.57 -0.07  1.34e-03  0.09   31.61\n",
            "V28              284807.0 -1.21e-16  0.33  -15.43 -0.05  1.12e-02  0.08   33.85\n",
            "Class            284807.0  1.73e-03  0.04    0.00  0.00  0.00e+00  0.00    1.00\n",
            "normalizeAmount  284807.0  3.20e-16  1.00   -0.35 -0.33 -2.65e-01 -0.04  102.36\n"
          ],
          "name": "stdout"
        }
      ]
    },
    {
      "cell_type": "code",
      "metadata": {
        "id": "WFUvLdOlFeme",
        "outputId": "b2527e0a-df47-4a47-86c6-90e39c681884",
        "colab": {
          "base_uri": "https://localhost:8080/",
          "height": 503
        }
      },
      "source": [
        "#  looking at correlations matrix, defined via Pearson function  \n",
        "corr = df.corr() # .corr is used to find corelation\n",
        "f,ax = plt.subplots(figsize=(8, 7))\n",
        "sns.heatmap(corr, cbar = True,  square = True, annot = False, fmt= '.1f', \n",
        "            xticklabels= True, yticklabels= True\n",
        "            ,cmap=\"coolwarm\", linewidths=.5, ax=ax)\n",
        "plt.title('CORRELATION MATRIX - HEATMAP', size=18);"
      ],
      "execution_count": 14,
      "outputs": [
        {
          "output_type": "display_data",
          "data": {
            "image/png": "[encoded data removed]",
            "text/plain": [
              "<Figure size 576x504 with 2 Axes>"
            ]
          },
          "metadata": {
            "tags": []
          }
        }
      ]
    },
    {
      "cell_type": "code",
      "metadata": {
        "id": "zcP1VuckGkpz"
      },
      "source": [
        "x=df.iloc[:,df.columns!='Class']\n",
        "y=df.iloc[:,df.columns == 'Class']"
      ],
      "execution_count": 15,
      "outputs": []
    },
    {
      "cell_type": "code",
      "metadata": {
        "id": "WEBqxeozNLjX"
      },
      "source": [
        "from sklearn.model_selection import train_test_split\n",
        "x_train,x_test,y_train,y_test=train_test_split(x,y, test_size=0.3,random_state=0)"
      ],
      "execution_count": 16,
      "outputs": []
    },
    {
      "cell_type": "code",
      "metadata": {
        "id": "mMEsAnGiNP3w",
        "outputId": "6e413f3b-6eea-49a4-bc6f-c99f79dc1aee",
        "colab": {
          "base_uri": "https://localhost:8080/",
          "height": 87
        }
      },
      "source": [
        "print(x_train.shape)\n",
        "print(y_train.shape)\n",
        "print(y_test.shape)\n",
        "print(x_test.shape)"
      ],
      "execution_count": 17,
      "outputs": [
        {
          "output_type": "stream",
          "text": [
            "(199364, 29)\n",
            "(199364, 1)\n",
            "(85443, 1)\n",
            "(85443, 29)\n"
          ],
          "name": "stdout"
        }
      ]
    },
    {
      "cell_type": "code",
      "metadata": {
        "id": "6DSssAC1N3bO"
      },
      "source": [
        "#### DEEP NEURAL NETWORK\n",
        "from keras.models import  Sequential\n",
        "from keras.layers import Dense, Dropout\n"
      ],
      "execution_count": 18,
      "outputs": []
    },
    {
      "cell_type": "code",
      "metadata": {
        "id": "GCBxdQFwPCZK"
      },
      "source": [
        "model=Sequential([\n",
        "                  Dense(units=16,input_dim=29,activation='relu'),\n",
        "                  Dense(units=20,activation='relu'),\n",
        "                  Dropout(0.5),\n",
        "                  Dense(20,activation='relu'),\n",
        "                  Dense(24,activation='relu'),\n",
        "                  Dense(1,activation='sigmoid')\n",
        "])"
      ],
      "execution_count": 19,
      "outputs": []
    },
    {
      "cell_type": "code",
      "metadata": {
        "id": "57TrptwiQNLo",
        "outputId": "65cd651d-cb67-4aa5-bffb-ee6b29a8012d",
        "colab": {
          "base_uri": "https://localhost:8080/",
          "height": 372
        }
      },
      "source": [
        "model.summary()"
      ],
      "execution_count": 20,
      "outputs": [
        {
          "output_type": "stream",
          "text": [
            "Model: \"sequential\"\n",
            "_________________________________________________________________\n",
            "Layer (type)                 Output Shape              Param #   \n",
            "=================================================================\n",
            "dense (Dense)                (None, 16)                480       \n",
            "_________________________________________________________________\n",
            "dense_1 (Dense)              (None, 20)                340       \n",
            "_________________________________________________________________\n",
            "dropout (Dropout)            (None, 20)                0         \n",
            "_________________________________________________________________\n",
            "dense_2 (Dense)              (None, 20)                420       \n",
            "_________________________________________________________________\n",
            "dense_3 (Dense)              (None, 24)                504       \n",
            "_________________________________________________________________\n",
            "dense_4 (Dense)              (None, 1)                 25        \n",
            "=================================================================\n",
            "Total params: 1,769\n",
            "Trainable params: 1,769\n",
            "Non-trainable params: 0\n",
            "_________________________________________________________________\n"
          ],
          "name": "stdout"
        }
      ]
    },
    {
      "cell_type": "code",
      "metadata": {
        "id": "wzDBvo3KRKig",
        "outputId": "b26d91af-f5c9-4de7-bc8b-68875cec572a",
        "colab": {
          "base_uri": "https://localhost:8080/",
          "height": 390
        }
      },
      "source": [
        "# Training our model\n",
        "\n",
        "model.compile(optimizer='adam',loss='binary_crossentropy',metrics=['accuracy'])\n",
        "model.fit(x_train,y_train,batch_size=15,epochs=10)"
      ],
      "execution_count": 21,
      "outputs": [
        {
          "output_type": "stream",
          "text": [
            "Epoch 1/10\n",
            "13291/13291 [==============================] - 16s 1ms/step - loss: 0.0091 - accuracy: 0.9986\n",
            "Epoch 2/10\n",
            "13291/13291 [==============================] - 16s 1ms/step - loss: 0.0039 - accuracy: 0.9993\n",
            "Epoch 3/10\n",
            "13291/13291 [==============================] - 16s 1ms/step - loss: 0.0038 - accuracy: 0.9993\n",
            "Epoch 4/10\n",
            "13291/13291 [==============================] - 16s 1ms/step - loss: 0.0033 - accuracy: 0.9993\n",
            "Epoch 5/10\n",
            "13291/13291 [==============================] - 16s 1ms/step - loss: 0.0033 - accuracy: 0.9993\n",
            "Epoch 6/10\n",
            "13291/13291 [==============================] - 17s 1ms/step - loss: 0.0031 - accuracy: 0.9994\n",
            "Epoch 7/10\n",
            "13291/13291 [==============================] - 17s 1ms/step - loss: 0.0031 - accuracy: 0.9994\n",
            "Epoch 8/10\n",
            "13291/13291 [==============================] - 17s 1ms/step - loss: 0.0031 - accuracy: 0.9994\n",
            "Epoch 9/10\n",
            "13291/13291 [==============================] - 17s 1ms/step - loss: 0.0029 - accuracy: 0.9994\n",
            "Epoch 10/10\n",
            "13291/13291 [==============================] - 17s 1ms/step - loss: 0.0028 - accuracy: 0.9994\n"
          ],
          "name": "stdout"
        },
        {
          "output_type": "execute_result",
          "data": {
            "text/plain": [
              "<tensorflow.python.keras.callbacks.History at 0x7fc07c6b52b0>"
            ]
          },
          "metadata": {
            "tags": []
          },
          "execution_count": 21
        }
      ]
    },
    {
      "cell_type": "code",
      "metadata": {
        "id": "dPzvhTBmYuzf"
      },
      "source": [
        ""
      ],
      "execution_count": 20,
      "outputs": []
    },
    {
      "cell_type": "code",
      "metadata": {
        "id": "S65YWAvzR6gd",
        "outputId": "c5c47a4a-8882-47b6-bfa3-8c100d98bb48",
        "colab": {
          "base_uri": "https://localhost:8080/",
          "height": 34
        }
      },
      "source": [
        "score=model.evaluate(x_test,y_test)"
      ],
      "execution_count": 23,
      "outputs": [
        {
          "output_type": "stream",
          "text": [
            "2671/2671 [==============================] - 3s 944us/step - loss: 0.0037 - accuracy: 0.9994\n"
          ],
          "name": "stdout"
        }
      ]
    },
    {
      "cell_type": "code",
      "metadata": {
        "id": "0DXPSc0NSsEh",
        "outputId": "624bb1c8-3941-4309-800b-a5340895d956",
        "colab": {
          "base_uri": "https://localhost:8080/",
          "height": 34
        }
      },
      "source": [
        "print(score)"
      ],
      "execution_count": 24,
      "outputs": [
        {
          "output_type": "stream",
          "text": [
            "[0.0037301445845514536, 0.9993796944618225]\n"
          ],
          "name": "stdout"
        }
      ]
    },
    {
      "cell_type": "code",
      "metadata": {
        "id": "sh4oXyPpU1JV"
      },
      "source": [
        "y_pred=model.predict(x_test)\n",
        "y_test=pd.DataFrame(y_test)"
      ],
      "execution_count": 25,
      "outputs": []
    },
    {
      "cell_type": "code",
      "metadata": {
        "id": "x-DD7ycFSwKM",
        "outputId": "42d4cd63-d2dc-431d-a2df-57a716d57cb5",
        "colab": {
          "base_uri": "https://localhost:8080/",
          "height": 244
        }
      },
      "source": [
        "from sklearn.metrics import confusion_matrix\n",
        "plt.figure(figsize=(4,3))\n",
        "ConfMatrix = confusion_matrix(y_test, y_pred.round())\n",
        "sns.heatmap(ConfMatrix,annot=True, cmap=\"Blues\", fmt=\"d\")\n",
        "          \n",
        "plt.ylabel('True label')\n",
        "plt.xlabel('Predicted label')\n",
        "plt.title(\"Confusion Matrix\");"
      ],
      "execution_count": 26,
      "outputs": [
        {
          "output_type": "display_data",
          "data": {
            "image/png": "[encoded data removed]",
            "text/plain": [
              "<Figure size 288x216 with 2 Axes>"
            ]
          },
          "metadata": {
            "tags": []
          }
        }
      ]
    },
    {
      "cell_type": "code",
      "metadata": {
        "id": "EKloNBpWT3Li"
      },
      "source": [
        "# we use SMOTE for over sampling\n",
        "\n",
        "\n",
        "#! pip install -U imbalanced-learn"
      ],
      "execution_count": 27,
      "outputs": []
    },
    {
      "cell_type": "code",
      "metadata": {
        "id": "BnN35AkAXjCR",
        "outputId": "1f06d44f-5dda-4204-fe75-d74c652de526",
        "colab": {
          "base_uri": "https://localhost:8080/",
          "height": 107
        }
      },
      "source": [
        "from imblearn.over_sampling import SMOTE\n"
      ],
      "execution_count": 28,
      "outputs": [
        {
          "output_type": "stream",
          "text": [
            "/usr/local/lib/python3.6/dist-packages/sklearn/externals/six.py:31: FutureWarning: The module is deprecated in version 0.21 and will be removed in version 0.23 since we've dropped support for Python 2.7. Please rely on the official version of six (https://pypi.org/project/six/).\n",
            "  \"(https://pypi.org/project/six/).\", FutureWarning)\n",
            "/usr/local/lib/python3.6/dist-packages/sklearn/utils/deprecation.py:144: FutureWarning: The sklearn.neighbors.base module is  deprecated in version 0.22 and will be removed in version 0.24. The corresponding classes / functions should instead be imported from sklearn.neighbors. Anything that cannot be imported from sklearn.neighbors is now part of the private API.\n",
            "  warnings.warn(message, FutureWarning)\n"
          ],
          "name": "stderr"
        }
      ]
    },
    {
      "cell_type": "code",
      "metadata": {
        "id": "FJSWKXRVXjUI",
        "outputId": "18fe4204-2315-416d-ec79-9b745eca5ee7",
        "colab": {
          "base_uri": "https://localhost:8080/",
          "height": 72
        }
      },
      "source": [
        "x_resample, y_resample= SMOTE().fit_sample(x,y.values.ravel())"
      ],
      "execution_count": 29,
      "outputs": [
        {
          "output_type": "stream",
          "text": [
            "/usr/local/lib/python3.6/dist-packages/sklearn/utils/deprecation.py:87: FutureWarning: Function safe_indexing is deprecated; safe_indexing is deprecated in version 0.22 and will be removed in version 0.24.\n",
            "  warnings.warn(msg, category=FutureWarning)\n"
          ],
          "name": "stderr"
        }
      ]
    },
    {
      "cell_type": "code",
      "metadata": {
        "id": "59J3Mu8uXjkF"
      },
      "source": [
        "x_resample=pd.DataFrame(x_resample)\n",
        "y_resample=pd.DataFrame(y_resample)"
      ],
      "execution_count": 30,
      "outputs": []
    },
    {
      "cell_type": "code",
      "metadata": {
        "id": "r9wb96VtmJez"
      },
      "source": [
        "x_train,x_test,y_train,y_test=train_test_split(x_resample,y_resample,test_size=0.3,random_state=42)"
      ],
      "execution_count": 31,
      "outputs": []
    },
    {
      "cell_type": "code",
      "metadata": {
        "id": "yOpTGHHkmdzX"
      },
      "source": [
        "x_train=np.array(x_train)\n",
        "y_train=np.array(y_train)\n",
        "x_test=np.array(x_test)\n",
        "y_test=np.array(y_test)"
      ],
      "execution_count": 32,
      "outputs": []
    },
    {
      "cell_type": "code",
      "metadata": {
        "id": "429UP9F2m3DK",
        "outputId": "dfe6bb04-5c56-4d61-adab-20518714563c",
        "colab": {
          "base_uri": "https://localhost:8080/",
          "height": 372
        }
      },
      "source": [
        "model.summary()"
      ],
      "execution_count": 33,
      "outputs": [
        {
          "output_type": "stream",
          "text": [
            "Model: \"sequential\"\n",
            "_________________________________________________________________\n",
            "Layer (type)                 Output Shape              Param #   \n",
            "=================================================================\n",
            "dense (Dense)                (None, 16)                480       \n",
            "_________________________________________________________________\n",
            "dense_1 (Dense)              (None, 20)                340       \n",
            "_________________________________________________________________\n",
            "dropout (Dropout)            (None, 20)                0         \n",
            "_________________________________________________________________\n",
            "dense_2 (Dense)              (None, 20)                420       \n",
            "_________________________________________________________________\n",
            "dense_3 (Dense)              (None, 24)                504       \n",
            "_________________________________________________________________\n",
            "dense_4 (Dense)              (None, 1)                 25        \n",
            "=================================================================\n",
            "Total params: 1,769\n",
            "Trainable params: 1,769\n",
            "Non-trainable params: 0\n",
            "_________________________________________________________________\n"
          ],
          "name": "stdout"
        }
      ]
    },
    {
      "cell_type": "code",
      "metadata": {
        "id": "gzNeWwTLm-T6",
        "outputId": "62dbb609-0341-45ca-9bbb-430f8f19501a",
        "colab": {
          "base_uri": "https://localhost:8080/",
          "height": 390
        }
      },
      "source": [
        "\n",
        "model.compile(optimizer='adam',loss='binary_crossentropy',metrics=['accuracy'])\n",
        "model.fit(x_train,y_train,batch_size=15,epochs=10)"
      ],
      "execution_count": 34,
      "outputs": [
        {
          "output_type": "stream",
          "text": [
            "Epoch 1/10\n",
            "26537/26537 [==============================] - 33s 1ms/step - loss: 0.0288 - accuracy: 0.9904\n",
            "Epoch 2/10\n",
            "26537/26537 [==============================] - 33s 1ms/step - loss: 0.0117 - accuracy: 0.9970\n",
            "Epoch 3/10\n",
            "26537/26537 [==============================] - 33s 1ms/step - loss: 0.0096 - accuracy: 0.9977\n",
            "Epoch 4/10\n",
            "26537/26537 [==============================] - 32s 1ms/step - loss: 0.0088 - accuracy: 0.9981\n",
            "Epoch 5/10\n",
            "26537/26537 [==============================] - 32s 1ms/step - loss: 0.0078 - accuracy: 0.9982\n",
            "Epoch 6/10\n",
            "26537/26537 [==============================] - 33s 1ms/step - loss: 0.0072 - accuracy: 0.9984\n",
            "Epoch 7/10\n",
            "26537/26537 [==============================] - 34s 1ms/step - loss: 0.0071 - accuracy: 0.9985\n",
            "Epoch 8/10\n",
            "26537/26537 [==============================] - 33s 1ms/step - loss: 0.0065 - accuracy: 0.9986\n",
            "Epoch 9/10\n",
            "26537/26537 [==============================] - 33s 1ms/step - loss: 0.0065 - accuracy: 0.9986\n",
            "Epoch 10/10\n",
            "26537/26537 [==============================] - 35s 1ms/step - loss: 0.0063 - accuracy: 0.9986\n"
          ],
          "name": "stdout"
        },
        {
          "output_type": "execute_result",
          "data": {
            "text/plain": [
              "<tensorflow.python.keras.callbacks.History at 0x7fc0748f6ac8>"
            ]
          },
          "metadata": {
            "tags": []
          },
          "execution_count": 34
        }
      ]
    },
    {
      "cell_type": "code",
      "metadata": {
        "id": "h9lCTYGMSnTP"
      },
      "source": [
        "y_pred=model.predict(x_test)\n",
        "y_expected=pd.DataFrame(y_test)"
      ],
      "execution_count": 35,
      "outputs": []
    },
    {
      "cell_type": "code",
      "metadata": {
        "id": "8SfCPXsOnWB4",
        "outputId": "29299d4a-f64d-4f9c-9b7d-aad7bc30e4a1",
        "colab": {
          "base_uri": "https://localhost:8080/",
          "height": 244
        }
      },
      "source": [
        "from sklearn.metrics import confusion_matrix\n",
        "plt.figure(figsize=(4,3))\n",
        "ConfMatrix = confusion_matrix(y_expected, y_pred.round())\n",
        "sns.heatmap(ConfMatrix,annot=True, cmap=\"Blues\", fmt=\"d\")\n",
        "          \n",
        "plt.ylabel('True label')\n",
        "plt.xlabel('Predicted label')\n",
        "plt.title(\"Confusion Matrix\");\n",
        "\n"
      ],
      "execution_count": 36,
      "outputs": [
        {
          "output_type": "display_data",
          "data": {
            "image/png": "[encoded data removed]",
            "text/plain": [
              "<Figure size 288x216 with 2 Axes>"
            ]
          },
          "metadata": {
            "tags": []
          }
        }
      ]
    },
    {
      "cell_type": "code",
      "metadata": {
        "id": "k8nLC3MyfR3K",
        "outputId": "e109dfa7-e6fd-46bc-a4b6-7fe2acd64b1f",
        "colab": {
          "base_uri": "https://localhost:8080/",
          "height": 244
        }
      },
      "source": [
        "y_pred=model.predict(x)\n",
        "y_expected=pd.DataFrame(y)\n",
        "\n",
        "from sklearn.metrics import confusion_matrix\n",
        "plt.figure(figsize=(4,3))\n",
        "ConfMatrix = confusion_matrix( y_expected,y_pred.round())\n",
        "sns.heatmap(ConfMatrix,annot=True, cmap=\"Blues\", fmt=\"d\")\n",
        "          \n",
        "plt.ylabel('True label')\n",
        "plt.xlabel('Predicted label')\n",
        "plt.title(\"Confusion Matrix\");\n"
      ],
      "execution_count": 37,
      "outputs": [
        {
          "output_type": "display_data",
          "data": {
            "image/png": "[encoded data removed]",
            "text/plain": [
              "<Figure size 288x216 with 2 Axes>"
            ]
          },
          "metadata": {
            "tags": []
          }
        }
      ]
    },
    {
      "cell_type": "code",
      "metadata": {
        "id": "YQHtiT1tfc6T"
      },
      "source": [
        "from sklearn import metrics\n",
        "from sklearn.metrics import precision_score, recall_score, f1_score, roc_auc_score, roc_curve, accuracy_score\n",
        "from sklearn.metrics import classification_report, confusion_matrix, precision_recall_curve, average_precision_score\n",
        "from scipy import stats\n",
        "from sklearn.manifold import TSNE\n",
        "from sklearn.decomposition import PCA, TruncatedSVD\n",
        "import matplotlib.patches as mpatches\n",
        "from imblearn.under_sampling import NearMiss\n",
        "from imblearn.over_sampling import SMOTE\n",
        "from imblearn.pipeline import make_pipeline as imbalanced_make_pipeline"
      ],
      "execution_count": 51,
      "outputs": []
    },
    {
      "cell_type": "code",
      "metadata": {
        "id": "xP4dpr1kouAw",
        "outputId": "96e61d9e-5124-40df-d9de-03916f8b0d63",
        "colab": {
          "base_uri": "https://localhost:8080/",
          "height": 356
        }
      },
      "source": [
        "sm = SMOTE(sampling_strategy='minority', random_state=49)\n",
        "Xsm_train, ysm_train = sm.fit_sample(x,y)\n",
        "\n",
        "NN_oversample = Sequential([Dense(Xsm_train.shape[1], input_shape=(Xsm_train.shape[1], ), activation='relu'),\n",
        "                            Dense(32, activation='relu'),\n",
        "                            Dense(2, activation='softmax')])\n",
        "NN_oversample.summary()\n",
        "              "
      ],
      "execution_count": 52,
      "outputs": [
        {
          "output_type": "stream",
          "text": [
            "/usr/local/lib/python3.6/dist-packages/sklearn/utils/validation.py:760: DataConversionWarning: A column-vector y was passed when a 1d array was expected. Please change the shape of y to (n_samples, ), for example using ravel().\n",
            "  y = column_or_1d(y, warn=True)\n",
            "/usr/local/lib/python3.6/dist-packages/sklearn/utils/deprecation.py:87: FutureWarning: Function safe_indexing is deprecated; safe_indexing is deprecated in version 0.22 and will be removed in version 0.24.\n",
            "  warnings.warn(msg, category=FutureWarning)\n"
          ],
          "name": "stderr"
        },
        {
          "output_type": "stream",
          "text": [
            "Model: \"sequential_1\"\n",
            "_________________________________________________________________\n",
            "Layer (type)                 Output Shape              Param #   \n",
            "=================================================================\n",
            "dense_5 (Dense)              (None, 29)                870       \n",
            "_________________________________________________________________\n",
            "dense_6 (Dense)              (None, 32)                960       \n",
            "_________________________________________________________________\n",
            "dense_7 (Dense)              (None, 2)                 66        \n",
            "=================================================================\n",
            "Total params: 1,896\n",
            "Trainable params: 1,896\n",
            "Non-trainable params: 0\n",
            "_________________________________________________________________\n"
          ],
          "name": "stdout"
        }
      ]
    },
    {
      "cell_type": "code",
      "metadata": {
        "id": "T0G-WWtPo5oo",
        "outputId": "ec34f968-0683-46b2-bfc9-d54badf95566",
        "colab": {
          "base_uri": "https://localhost:8080/",
          "height": 801
        }
      },
      "source": [
        "#Let's see how our performance changes when we train our NN using oversampled data.\n",
        "import itertools\n",
        "import keras\n",
        "from keras import backend as K\n",
        "from keras.models import Sequential\n",
        "from keras.layers import Activation\n",
        "from keras.layers.core import Dense\n",
        "from keras.optimizers import Adam\n",
        "from keras.metrics import categorical_crossentropy\n",
        "NN_oversample.compile(Adam(lr=0.001), metrics=['accuracy'], loss='sparse_categorical_crossentropy')\n",
        "\n",
        "NN_oversample.fit(Xsm_train, ysm_train, validation_split=0.2, batch_size=300, epochs=20, shuffle=True, verbose=2)\n",
        "\n",
        "oversample_pred = NN_oversample.predict_classes(x_test)"
      ],
      "execution_count": 55,
      "outputs": [
        {
          "output_type": "stream",
          "text": [
            "Epoch 1/20\n",
            "1517/1517 - 2s - loss: 0.0014 - accuracy: 0.9997 - val_loss: 8.5839e-04 - val_accuracy: 1.0000\n",
            "Epoch 2/20\n",
            "1517/1517 - 2s - loss: 0.0011 - accuracy: 0.9997 - val_loss: 6.6427e-04 - val_accuracy: 1.0000\n",
            "Epoch 3/20\n",
            "1517/1517 - 2s - loss: 0.0013 - accuracy: 0.9997 - val_loss: 7.6884e-04 - val_accuracy: 0.9999\n",
            "Epoch 4/20\n",
            "1517/1517 - 2s - loss: 0.0012 - accuracy: 0.9997 - val_loss: 4.3390e-04 - val_accuracy: 1.0000\n",
            "Epoch 5/20\n",
            "1517/1517 - 2s - loss: 0.0010 - accuracy: 0.9997 - val_loss: 2.0821e-04 - val_accuracy: 1.0000\n",
            "Epoch 6/20\n",
            "1517/1517 - 2s - loss: 0.0011 - accuracy: 0.9997 - val_loss: 7.9360e-04 - val_accuracy: 0.9999\n",
            "Epoch 7/20\n",
            "1517/1517 - 2s - loss: 0.0013 - accuracy: 0.9997 - val_loss: 2.2393e-04 - val_accuracy: 1.0000\n",
            "Epoch 8/20\n",
            "1517/1517 - 2s - loss: 8.6917e-04 - accuracy: 0.9998 - val_loss: 2.1116e-04 - val_accuracy: 1.0000\n",
            "Epoch 9/20\n",
            "1517/1517 - 2s - loss: 8.7584e-04 - accuracy: 0.9998 - val_loss: 3.6696e-04 - val_accuracy: 1.0000\n",
            "Epoch 10/20\n",
            "1517/1517 - 2s - loss: 0.0011 - accuracy: 0.9997 - val_loss: 0.0017 - val_accuracy: 1.0000\n",
            "Epoch 11/20\n",
            "1517/1517 - 2s - loss: 7.6463e-04 - accuracy: 0.9998 - val_loss: 3.2590e-04 - val_accuracy: 1.0000\n",
            "Epoch 12/20\n",
            "1517/1517 - 2s - loss: 8.1047e-04 - accuracy: 0.9998 - val_loss: 0.0014 - val_accuracy: 0.9998\n",
            "Epoch 13/20\n",
            "1517/1517 - 2s - loss: 0.0010 - accuracy: 0.9998 - val_loss: 9.5618e-04 - val_accuracy: 0.9999\n",
            "Epoch 14/20\n",
            "1517/1517 - 2s - loss: 7.5700e-04 - accuracy: 0.9998 - val_loss: 8.6813e-05 - val_accuracy: 1.0000\n",
            "Epoch 15/20\n",
            "1517/1517 - 2s - loss: 0.0011 - accuracy: 0.9997 - val_loss: 8.0951e-04 - val_accuracy: 0.9999\n",
            "Epoch 16/20\n",
            "1517/1517 - 2s - loss: 6.8881e-04 - accuracy: 0.9998 - val_loss: 7.5954e-04 - val_accuracy: 0.9998\n",
            "Epoch 17/20\n",
            "1517/1517 - 2s - loss: 8.2461e-04 - accuracy: 0.9998 - val_loss: 5.5829e-04 - val_accuracy: 1.0000\n",
            "Epoch 18/20\n",
            "1517/1517 - 2s - loss: 8.3860e-04 - accuracy: 0.9998 - val_loss: 2.5719e-04 - val_accuracy: 0.9999\n",
            "Epoch 19/20\n",
            "1517/1517 - 2s - loss: 6.1660e-04 - accuracy: 0.9998 - val_loss: 2.9986e-04 - val_accuracy: 0.9999\n",
            "Epoch 20/20\n",
            "1517/1517 - 2s - loss: 8.6527e-04 - accuracy: 0.9998 - val_loss: 3.7850e-05 - val_accuracy: 1.0000\n",
            "WARNING:tensorflow:From <ipython-input-55-edf6fb1469c0>:13: Sequential.predict_classes (from tensorflow.python.keras.engine.sequential) is deprecated and will be removed after 2021-01-01.\n",
            "Instructions for updating:\n",
            "Please use instead:* `np.argmax(model.predict(x), axis=-1)`,   if your model does multi-class classification   (e.g. if it uses a `softmax` last-layer activation).* `(model.predict(x) > 0.5).astype(\"int32\")`,   if your model does binary classification   (e.g. if it uses a `sigmoid` last-layer activation).\n"
          ],
          "name": "stdout"
        }
      ]
    },
    {
      "cell_type": "code",
      "metadata": {
        "id": "NeGB6HzBcXct"
      },
      "source": [
        "def plot_cm(cm, classes, normalize=False, title='Confusion matrix', cmap='Blues'):\n",
        "    if normalize:\n",
        "        cm = cm.astype('float') / cm.sum(axis=1)[:, np.newaxis]\n",
        "        print(\"Normalized confusion matrix\")\n",
        "    else:\n",
        "        print('Confusion matrix, without normalization')\n",
        "    plt.imshow(cm, interpolation='nearest', cmap=cmap)\n",
        "    plt.title(title, fontsize=14)\n",
        "    plt.colorbar()\n",
        "    tick_marks = np.arange(len(classes))\n",
        "    plt.xticks(tick_marks, classes, rotation=45)\n",
        "    plt.yticks(tick_marks, classes)\n",
        "    plt.ylabel('Actual')\n",
        "    plt.xlabel('Predicted')\n",
        "\n",
        "    fmt = '.2f' if normalize else 'd'\n",
        "    thresh = cm.max() / 2\n",
        "    for i, j in itertools.product(range(cm.shape[0]), range(cm.shape[1])):\n",
        "        plt.text(j, i, format(cm[i, j], fmt),\n",
        "                 horizontalalignment=\"center\",\n",
        "                 color=\"white\" if cm[i, j] > thresh else \"black\")\n",
        "    plt.tight_layout()"
      ],
      "execution_count": 57,
      "outputs": []
    },
    {
      "cell_type": "code",
      "metadata": {
        "id": "XKin6q1qVKCd",
        "outputId": "55b1a00c-5879-4860-c886-77f6ace1c8f2",
        "colab": {
          "base_uri": "https://localhost:8080/",
          "height": 391
        }
      },
      "source": [
        "labels = ['Safe', 'Fraud']\n",
        "\n",
        "oversample_smote = confusion_matrix(y_test, oversample_pred)\n",
        "\n",
        "plt.figure(figsize=(6,5))\n",
        "plot_cm(oversample_smote, labels, title=\"SMOTE Oversample\\nConfusion Matrix \", cmap=plt.cm.Greens)"
      ],
      "execution_count": 59,
      "outputs": [
        {
          "output_type": "stream",
          "text": [
            "Confusion matrix, without normalization\n"
          ],
          "name": "stdout"
        },
        {
          "output_type": "display_data",
          "data": {
            "image/png": "[encoded data removed]",
            "text/plain": [
              "<Figure size 432x360 with 2 Axes>"
            ]
          },
          "metadata": {
            "tags": []
          }
        }
      ]
    },
    {
      "cell_type": "code",
      "metadata": {
        "id": "z6MEld4XcCNZ",
        "outputId": "383be8b6-7073-4b01-8c7a-3035979c1891",
        "colab": {
          "base_uri": "https://localhost:8080/",
          "height": 176
        }
      },
      "source": [
        "print(classification_report(y_test, oversample_pred, target_names=labels, digits=4))"
      ],
      "execution_count": 61,
      "outputs": [
        {
          "output_type": "stream",
          "text": [
            "              precision    recall  f1-score   support\n",
            "\n",
            "        Safe     1.0000    0.9997    0.9998     85149\n",
            "       Fraud     0.9997    1.0000    0.9998     85440\n",
            "\n",
            "    accuracy                         0.9998    170589\n",
            "   macro avg     0.9998    0.9998    0.9998    170589\n",
            "weighted avg     0.9998    0.9998    0.9998    170589\n",
            "\n"
          ],
          "name": "stdout"
        }
      ]
    },
    {
      "cell_type": "code",
      "metadata": {
        "id": "aebXSrXpcvQF"
      },
      "source": [
        ""
      ],
      "execution_count": null,
      "outputs": []
    }
  ]
}